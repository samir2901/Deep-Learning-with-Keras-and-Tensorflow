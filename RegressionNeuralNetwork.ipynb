{
 "nbformat": 4,
 "nbformat_minor": 2,
 "metadata": {
  "language_info": {
   "name": "python",
   "codemirror_mode": {
    "name": "ipython",
    "version": 3
   },
   "version": "3.7.6-final"
  },
  "orig_nbformat": 2,
  "file_extension": ".py",
  "mimetype": "text/x-python",
  "name": "python",
  "npconvert_exporter": "python",
  "pygments_lexer": "ipython3",
  "version": 3,
  "kernelspec": {
   "name": "python37664bit5b2d4abf892942c7a5f91c869679c583",
   "display_name": "Python 3.7.6 64-bit"
  }
 },
 "cells": [
  {
   "cell_type": "code",
   "execution_count": 14,
   "metadata": {},
   "outputs": [],
   "source": [
    "import pandas as pd \n",
    "import numpy as np "
   ]
  },
  {
   "cell_type": "code",
   "execution_count": 15,
   "metadata": {},
   "outputs": [
    {
     "data": {
      "text/html": "<div>\n<style scoped>\n    .dataframe tbody tr th:only-of-type {\n        vertical-align: middle;\n    }\n\n    .dataframe tbody tr th {\n        vertical-align: top;\n    }\n\n    .dataframe thead th {\n        text-align: right;\n    }\n</style>\n<table border=\"1\" class=\"dataframe\">\n  <thead>\n    <tr style=\"text-align: right;\">\n      <th></th>\n      <th>Cement</th>\n      <th>Blast Furnace Slag</th>\n      <th>Fly Ash</th>\n      <th>Water</th>\n      <th>Superplasticizer</th>\n      <th>Coarse Aggregate</th>\n      <th>Fine Aggregate</th>\n      <th>Age</th>\n      <th>Strength</th>\n    </tr>\n  </thead>\n  <tbody>\n    <tr>\n      <th>0</th>\n      <td>540.0</td>\n      <td>0.0</td>\n      <td>0.0</td>\n      <td>162.0</td>\n      <td>2.5</td>\n      <td>1040.0</td>\n      <td>676.0</td>\n      <td>28</td>\n      <td>79.99</td>\n    </tr>\n    <tr>\n      <th>1</th>\n      <td>540.0</td>\n      <td>0.0</td>\n      <td>0.0</td>\n      <td>162.0</td>\n      <td>2.5</td>\n      <td>1055.0</td>\n      <td>676.0</td>\n      <td>28</td>\n      <td>61.89</td>\n    </tr>\n    <tr>\n      <th>2</th>\n      <td>332.5</td>\n      <td>142.5</td>\n      <td>0.0</td>\n      <td>228.0</td>\n      <td>0.0</td>\n      <td>932.0</td>\n      <td>594.0</td>\n      <td>270</td>\n      <td>40.27</td>\n    </tr>\n    <tr>\n      <th>3</th>\n      <td>332.5</td>\n      <td>142.5</td>\n      <td>0.0</td>\n      <td>228.0</td>\n      <td>0.0</td>\n      <td>932.0</td>\n      <td>594.0</td>\n      <td>365</td>\n      <td>41.05</td>\n    </tr>\n    <tr>\n      <th>4</th>\n      <td>198.6</td>\n      <td>132.4</td>\n      <td>0.0</td>\n      <td>192.0</td>\n      <td>0.0</td>\n      <td>978.4</td>\n      <td>825.5</td>\n      <td>360</td>\n      <td>44.30</td>\n    </tr>\n  </tbody>\n</table>\n</div>",
      "text/plain": "   Cement  Blast Furnace Slag  Fly Ash  Water  Superplasticizer  \\\n0   540.0                 0.0      0.0  162.0               2.5   \n1   540.0                 0.0      0.0  162.0               2.5   \n2   332.5               142.5      0.0  228.0               0.0   \n3   332.5               142.5      0.0  228.0               0.0   \n4   198.6               132.4      0.0  192.0               0.0   \n\n   Coarse Aggregate  Fine Aggregate  Age  Strength  \n0            1040.0           676.0   28     79.99  \n1            1055.0           676.0   28     61.89  \n2             932.0           594.0  270     40.27  \n3             932.0           594.0  365     41.05  \n4             978.4           825.5  360     44.30  "
     },
     "execution_count": 15,
     "metadata": {},
     "output_type": "execute_result"
    }
   ],
   "source": [
    "data = pd.read_csv('https://ibm.box.com/shared/static/svl8tu7cmod6tizo6rk0ke4sbuhtpdfx.csv')\n",
    "data.head()"
   ]
  },
  {
   "cell_type": "code",
   "execution_count": 16,
   "metadata": {},
   "outputs": [
    {
     "data": {
      "text/plain": "(1030, 9)"
     },
     "execution_count": 16,
     "metadata": {},
     "output_type": "execute_result"
    }
   ],
   "source": [
    "data.shape"
   ]
  },
  {
   "cell_type": "code",
   "execution_count": 17,
   "metadata": {},
   "outputs": [
    {
     "data": {
      "text/html": "<div>\n<style scoped>\n    .dataframe tbody tr th:only-of-type {\n        vertical-align: middle;\n    }\n\n    .dataframe tbody tr th {\n        vertical-align: top;\n    }\n\n    .dataframe thead th {\n        text-align: right;\n    }\n</style>\n<table border=\"1\" class=\"dataframe\">\n  <thead>\n    <tr style=\"text-align: right;\">\n      <th></th>\n      <th>Cement</th>\n      <th>Blast Furnace Slag</th>\n      <th>Fly Ash</th>\n      <th>Water</th>\n      <th>Superplasticizer</th>\n      <th>Coarse Aggregate</th>\n      <th>Fine Aggregate</th>\n      <th>Age</th>\n      <th>Strength</th>\n    </tr>\n  </thead>\n  <tbody>\n    <tr>\n      <th>count</th>\n      <td>1030.000000</td>\n      <td>1030.000000</td>\n      <td>1030.000000</td>\n      <td>1030.000000</td>\n      <td>1030.000000</td>\n      <td>1030.000000</td>\n      <td>1030.000000</td>\n      <td>1030.000000</td>\n      <td>1030.000000</td>\n    </tr>\n    <tr>\n      <th>mean</th>\n      <td>281.167864</td>\n      <td>73.895825</td>\n      <td>54.188350</td>\n      <td>181.567282</td>\n      <td>6.204660</td>\n      <td>972.918932</td>\n      <td>773.580485</td>\n      <td>45.662136</td>\n      <td>35.817961</td>\n    </tr>\n    <tr>\n      <th>std</th>\n      <td>104.506364</td>\n      <td>86.279342</td>\n      <td>63.997004</td>\n      <td>21.354219</td>\n      <td>5.973841</td>\n      <td>77.753954</td>\n      <td>80.175980</td>\n      <td>63.169912</td>\n      <td>16.705742</td>\n    </tr>\n    <tr>\n      <th>min</th>\n      <td>102.000000</td>\n      <td>0.000000</td>\n      <td>0.000000</td>\n      <td>121.800000</td>\n      <td>0.000000</td>\n      <td>801.000000</td>\n      <td>594.000000</td>\n      <td>1.000000</td>\n      <td>2.330000</td>\n    </tr>\n    <tr>\n      <th>25%</th>\n      <td>192.375000</td>\n      <td>0.000000</td>\n      <td>0.000000</td>\n      <td>164.900000</td>\n      <td>0.000000</td>\n      <td>932.000000</td>\n      <td>730.950000</td>\n      <td>7.000000</td>\n      <td>23.710000</td>\n    </tr>\n    <tr>\n      <th>50%</th>\n      <td>272.900000</td>\n      <td>22.000000</td>\n      <td>0.000000</td>\n      <td>185.000000</td>\n      <td>6.400000</td>\n      <td>968.000000</td>\n      <td>779.500000</td>\n      <td>28.000000</td>\n      <td>34.445000</td>\n    </tr>\n    <tr>\n      <th>75%</th>\n      <td>350.000000</td>\n      <td>142.950000</td>\n      <td>118.300000</td>\n      <td>192.000000</td>\n      <td>10.200000</td>\n      <td>1029.400000</td>\n      <td>824.000000</td>\n      <td>56.000000</td>\n      <td>46.135000</td>\n    </tr>\n    <tr>\n      <th>max</th>\n      <td>540.000000</td>\n      <td>359.400000</td>\n      <td>200.100000</td>\n      <td>247.000000</td>\n      <td>32.200000</td>\n      <td>1145.000000</td>\n      <td>992.600000</td>\n      <td>365.000000</td>\n      <td>82.600000</td>\n    </tr>\n  </tbody>\n</table>\n</div>",
      "text/plain": "            Cement  Blast Furnace Slag      Fly Ash        Water  \\\ncount  1030.000000         1030.000000  1030.000000  1030.000000   \nmean    281.167864           73.895825    54.188350   181.567282   \nstd     104.506364           86.279342    63.997004    21.354219   \nmin     102.000000            0.000000     0.000000   121.800000   \n25%     192.375000            0.000000     0.000000   164.900000   \n50%     272.900000           22.000000     0.000000   185.000000   \n75%     350.000000          142.950000   118.300000   192.000000   \nmax     540.000000          359.400000   200.100000   247.000000   \n\n       Superplasticizer  Coarse Aggregate  Fine Aggregate          Age  \\\ncount       1030.000000       1030.000000     1030.000000  1030.000000   \nmean           6.204660        972.918932      773.580485    45.662136   \nstd            5.973841         77.753954       80.175980    63.169912   \nmin            0.000000        801.000000      594.000000     1.000000   \n25%            0.000000        932.000000      730.950000     7.000000   \n50%            6.400000        968.000000      779.500000    28.000000   \n75%           10.200000       1029.400000      824.000000    56.000000   \nmax           32.200000       1145.000000      992.600000   365.000000   \n\n          Strength  \ncount  1030.000000  \nmean     35.817961  \nstd      16.705742  \nmin       2.330000  \n25%      23.710000  \n50%      34.445000  \n75%      46.135000  \nmax      82.600000  "
     },
     "execution_count": 17,
     "metadata": {},
     "output_type": "execute_result"
    }
   ],
   "source": [
    "data.describe()"
   ]
  },
  {
   "cell_type": "code",
   "execution_count": 18,
   "metadata": {},
   "outputs": [
    {
     "data": {
      "text/plain": "Cement                0\nBlast Furnace Slag    0\nFly Ash               0\nWater                 0\nSuperplasticizer      0\nCoarse Aggregate      0\nFine Aggregate        0\nAge                   0\nStrength              0\ndtype: int64"
     },
     "execution_count": 18,
     "metadata": {},
     "output_type": "execute_result"
    }
   ],
   "source": [
    "#checking missing data\n",
    "data.isnull().sum()"
   ]
  },
  {
   "cell_type": "code",
   "execution_count": 19,
   "metadata": {},
   "outputs": [],
   "source": [
    "input_data = data[['Cement','Blast Furnace Slag','Fly Ash','Water','Superplasticizer','Coarse Aggregate','Fine Aggregate','Age']]\n",
    "output_data = data['Strength']"
   ]
  },
  {
   "cell_type": "code",
   "execution_count": 20,
   "metadata": {},
   "outputs": [
    {
     "data": {
      "text/plain": "(1030, 8)"
     },
     "execution_count": 20,
     "metadata": {},
     "output_type": "execute_result"
    }
   ],
   "source": [
    "input_data.shape"
   ]
  },
  {
   "cell_type": "code",
   "execution_count": 21,
   "metadata": {},
   "outputs": [
    {
     "data": {
      "text/plain": "(1030,)"
     },
     "execution_count": 21,
     "metadata": {},
     "output_type": "execute_result"
    }
   ],
   "source": [
    "output_data.shape"
   ]
  },
  {
   "cell_type": "code",
   "execution_count": 22,
   "metadata": {},
   "outputs": [
    {
     "data": {
      "text/html": "<div>\n<style scoped>\n    .dataframe tbody tr th:only-of-type {\n        vertical-align: middle;\n    }\n\n    .dataframe tbody tr th {\n        vertical-align: top;\n    }\n\n    .dataframe thead th {\n        text-align: right;\n    }\n</style>\n<table border=\"1\" class=\"dataframe\">\n  <thead>\n    <tr style=\"text-align: right;\">\n      <th></th>\n      <th>Cement</th>\n      <th>Blast Furnace Slag</th>\n      <th>Fly Ash</th>\n      <th>Water</th>\n      <th>Superplasticizer</th>\n      <th>Coarse Aggregate</th>\n      <th>Fine Aggregate</th>\n      <th>Age</th>\n    </tr>\n  </thead>\n  <tbody>\n    <tr>\n      <th>0</th>\n      <td>2.476712</td>\n      <td>-0.856472</td>\n      <td>-0.846733</td>\n      <td>-0.916319</td>\n      <td>-0.620147</td>\n      <td>0.862735</td>\n      <td>-1.217079</td>\n      <td>-0.279597</td>\n    </tr>\n    <tr>\n      <th>1</th>\n      <td>2.476712</td>\n      <td>-0.856472</td>\n      <td>-0.846733</td>\n      <td>-0.916319</td>\n      <td>-0.620147</td>\n      <td>1.055651</td>\n      <td>-1.217079</td>\n      <td>-0.279597</td>\n    </tr>\n    <tr>\n      <th>2</th>\n      <td>0.491187</td>\n      <td>0.795140</td>\n      <td>-0.846733</td>\n      <td>2.174405</td>\n      <td>-1.038638</td>\n      <td>-0.526262</td>\n      <td>-2.239829</td>\n      <td>3.551340</td>\n    </tr>\n    <tr>\n      <th>3</th>\n      <td>0.491187</td>\n      <td>0.795140</td>\n      <td>-0.846733</td>\n      <td>2.174405</td>\n      <td>-1.038638</td>\n      <td>-0.526262</td>\n      <td>-2.239829</td>\n      <td>5.055221</td>\n    </tr>\n    <tr>\n      <th>4</th>\n      <td>-0.790075</td>\n      <td>0.678079</td>\n      <td>-0.846733</td>\n      <td>0.488555</td>\n      <td>-1.038638</td>\n      <td>0.070492</td>\n      <td>0.647569</td>\n      <td>4.976069</td>\n    </tr>\n  </tbody>\n</table>\n</div>",
      "text/plain": "     Cement  Blast Furnace Slag   Fly Ash     Water  Superplasticizer  \\\n0  2.476712           -0.856472 -0.846733 -0.916319         -0.620147   \n1  2.476712           -0.856472 -0.846733 -0.916319         -0.620147   \n2  0.491187            0.795140 -0.846733  2.174405         -1.038638   \n3  0.491187            0.795140 -0.846733  2.174405         -1.038638   \n4 -0.790075            0.678079 -0.846733  0.488555         -1.038638   \n\n   Coarse Aggregate  Fine Aggregate       Age  \n0          0.862735       -1.217079 -0.279597  \n1          1.055651       -1.217079 -0.279597  \n2         -0.526262       -2.239829  3.551340  \n3         -0.526262       -2.239829  5.055221  \n4          0.070492        0.647569  4.976069  "
     },
     "execution_count": 22,
     "metadata": {},
     "output_type": "execute_result"
    }
   ],
   "source": [
    "#normalizing the data\n",
    "input_data_norm = (input_data - input_data.mean())/input_data.std()\n",
    "input_data_norm.head()"
   ]
  },
  {
   "cell_type": "code",
   "execution_count": 23,
   "metadata": {},
   "outputs": [
    {
     "name": "stdout",
     "output_type": "stream",
     "text": "8\n"
    }
   ],
   "source": [
    "#number of input neurons\n",
    "n = input_data_norm.shape[1]\n",
    "print(n)"
   ]
  },
  {
   "cell_type": "markdown",
   "execution_count": null,
   "metadata": {},
   "outputs": [],
   "source": [
    "### Building the neural network"
   ]
  },
  {
   "cell_type": "code",
   "execution_count": 24,
   "metadata": {},
   "outputs": [],
   "source": [
    "import keras\n",
    "from keras.models import Sequential\n",
    "from keras.layers import Dense"
   ]
  },
  {
   "cell_type": "code",
   "execution_count": 25,
   "metadata": {},
   "outputs": [],
   "source": [
    "model = Sequential()\n",
    "model.add(Dense(50,activation='relu',input_shape=(n,)))\n",
    "model.add(Dense(50,activation='relu'))\n",
    "model.add(Dense(1))\n",
    "model.compile(optimizer='adam',loss='mean_squared_error')"
   ]
  },
  {
   "cell_type": "code",
   "execution_count": 26,
   "metadata": {},
   "outputs": [
    {
     "name": "stdout",
     "output_type": "stream",
     "text": "Train on 721 samples, validate on 309 samples\nEpoch 1/100\n - 0s - loss: 1636.6587 - val_loss: 1121.9558\nEpoch 2/100\n - 0s - loss: 1488.8414 - val_loss: 973.2686\nEpoch 3/100\n - 0s - loss: 1223.9480 - val_loss: 737.4560\nEpoch 4/100\n - 0s - loss: 832.4757 - val_loss: 464.4075\nEpoch 5/100\n - 0s - loss: 466.6081 - val_loss: 250.0139\nEpoch 6/100\n - 0s - loss: 271.6080 - val_loss: 168.3105\nEpoch 7/100\n - 0s - loss: 229.8009 - val_loss: 151.8785\nEpoch 8/100\n - 0s - loss: 212.9644 - val_loss: 146.8539\nEpoch 9/100\n - 0s - loss: 202.2021 - val_loss: 147.2998\nEpoch 10/100\n - 0s - loss: 194.6642 - val_loss: 144.3065\nEpoch 11/100\n - 0s - loss: 189.8637 - val_loss: 139.1653\nEpoch 12/100\n - 0s - loss: 183.6523 - val_loss: 139.0006\nEpoch 13/100\n - 0s - loss: 179.2690 - val_loss: 137.0972\nEpoch 14/100\n - 0s - loss: 175.9766 - val_loss: 136.3132\nEpoch 15/100\n - 0s - loss: 172.2800 - val_loss: 135.8260\nEpoch 16/100\n - 0s - loss: 168.3865 - val_loss: 135.9605\nEpoch 17/100\n - 0s - loss: 165.8243 - val_loss: 135.6611\nEpoch 18/100\n - 0s - loss: 163.8643 - val_loss: 134.7425\nEpoch 19/100\n - 0s - loss: 161.0071 - val_loss: 136.2379\nEpoch 20/100\n - 0s - loss: 159.1259 - val_loss: 135.1877\nEpoch 21/100\n - 0s - loss: 156.6482 - val_loss: 136.3752\nEpoch 22/100\n - 0s - loss: 154.8984 - val_loss: 136.9199\nEpoch 23/100\n - 0s - loss: 153.2866 - val_loss: 135.8383\nEpoch 24/100\n - 0s - loss: 151.0947 - val_loss: 136.4863\nEpoch 25/100\n - 0s - loss: 149.8549 - val_loss: 139.3197\nEpoch 26/100\n - 0s - loss: 147.4343 - val_loss: 139.4250\nEpoch 27/100\n - 0s - loss: 145.7433 - val_loss: 139.4071\nEpoch 28/100\n - 0s - loss: 144.4546 - val_loss: 139.3351\nEpoch 29/100\n - 0s - loss: 143.1502 - val_loss: 141.7170\nEpoch 30/100\n - 0s - loss: 141.6503 - val_loss: 142.6676\nEpoch 31/100\n - 0s - loss: 139.1064 - val_loss: 140.1280\nEpoch 32/100\n - 0s - loss: 137.4763 - val_loss: 142.9344\nEpoch 33/100\n - 0s - loss: 136.5290 - val_loss: 143.6257\nEpoch 34/100\n - 0s - loss: 135.5354 - val_loss: 144.1326\nEpoch 35/100\n - 0s - loss: 133.4262 - val_loss: 145.2867\nEpoch 36/100\n - 0s - loss: 132.0633 - val_loss: 146.2942\nEpoch 37/100\n - 0s - loss: 130.1265 - val_loss: 144.8433\nEpoch 38/100\n - 0s - loss: 128.9919 - val_loss: 145.0663\nEpoch 39/100\n - 0s - loss: 127.5615 - val_loss: 144.0274\nEpoch 40/100\n - 0s - loss: 125.3178 - val_loss: 144.8055\nEpoch 41/100\n - 0s - loss: 124.8815 - val_loss: 147.7873\nEpoch 42/100\n - 0s - loss: 122.7501 - val_loss: 145.9767\nEpoch 43/100\n - 0s - loss: 120.1646 - val_loss: 150.7975\nEpoch 44/100\n - 0s - loss: 118.2681 - val_loss: 149.4133\nEpoch 45/100\n - 0s - loss: 116.4510 - val_loss: 148.9208\nEpoch 46/100\n - 0s - loss: 114.6902 - val_loss: 143.4468\nEpoch 47/100\n - 0s - loss: 112.4221 - val_loss: 148.7233\nEpoch 48/100\n - 0s - loss: 110.5838 - val_loss: 149.9514\nEpoch 49/100\n - 0s - loss: 109.0151 - val_loss: 147.4939\nEpoch 50/100\n - 0s - loss: 106.7320 - val_loss: 147.6429\nEpoch 51/100\n - 0s - loss: 104.7109 - val_loss: 146.9909\nEpoch 52/100\n - 0s - loss: 103.1734 - val_loss: 149.3116\nEpoch 53/100\n - 0s - loss: 100.4589 - val_loss: 146.6141\nEpoch 54/100\n - 0s - loss: 98.3512 - val_loss: 147.3531\nEpoch 55/100\n - 0s - loss: 95.9477 - val_loss: 143.3476\nEpoch 56/100\n - 0s - loss: 94.0543 - val_loss: 144.4448\nEpoch 57/100\n - 0s - loss: 91.2156 - val_loss: 146.5341\nEpoch 58/100\n - 0s - loss: 89.5226 - val_loss: 142.7146\nEpoch 59/100\n - 0s - loss: 86.6288 - val_loss: 141.4217\nEpoch 60/100\n - 0s - loss: 84.7700 - val_loss: 140.0823\nEpoch 61/100\n - 0s - loss: 82.4476 - val_loss: 137.8796\nEpoch 62/100\n - 0s - loss: 79.4225 - val_loss: 134.6544\nEpoch 63/100\n - 0s - loss: 76.9981 - val_loss: 134.1632\nEpoch 64/100\n - 0s - loss: 74.6543 - val_loss: 135.0854\nEpoch 65/100\n - 0s - loss: 72.7309 - val_loss: 135.1472\nEpoch 66/100\n - 0s - loss: 70.2351 - val_loss: 134.6299\nEpoch 67/100\n - 0s - loss: 68.1811 - val_loss: 134.1621\nEpoch 68/100\n - 0s - loss: 65.6121 - val_loss: 128.3885\nEpoch 69/100\n - 0s - loss: 64.2177 - val_loss: 124.5592\nEpoch 70/100\n - 0s - loss: 62.4791 - val_loss: 126.1030\nEpoch 71/100\n - 0s - loss: 60.2669 - val_loss: 126.4329\nEpoch 72/100\n - 0s - loss: 58.6415 - val_loss: 126.5026\nEpoch 73/100\n - 0s - loss: 57.0167 - val_loss: 122.2734\nEpoch 74/100\n - 0s - loss: 55.6471 - val_loss: 125.8129\nEpoch 75/100\n - 0s - loss: 53.8382 - val_loss: 128.1893\nEpoch 76/100\n - 0s - loss: 52.6150 - val_loss: 125.3406\nEpoch 77/100\n - 0s - loss: 51.1807 - val_loss: 127.8995\nEpoch 78/100\n - 0s - loss: 49.9546 - val_loss: 115.7466\nEpoch 79/100\n - 0s - loss: 49.5983 - val_loss: 124.1089\nEpoch 80/100\n - 0s - loss: 47.8039 - val_loss: 127.7336\nEpoch 81/100\n - 0s - loss: 47.0072 - val_loss: 115.6574\nEpoch 82/100\n - 0s - loss: 45.9387 - val_loss: 131.9588\nEpoch 83/100\n - 0s - loss: 46.1886 - val_loss: 119.9758\nEpoch 84/100\n - 0s - loss: 44.4266 - val_loss: 125.3393\nEpoch 85/100\n - 0s - loss: 43.7702 - val_loss: 122.6197\nEpoch 86/100\n - 0s - loss: 43.2894 - val_loss: 124.8669\nEpoch 87/100\n - 0s - loss: 42.6516 - val_loss: 130.1222\nEpoch 88/100\n - 0s - loss: 42.2754 - val_loss: 119.9337\nEpoch 89/100\n - 0s - loss: 41.4491 - val_loss: 129.2693\nEpoch 90/100\n - 0s - loss: 41.0114 - val_loss: 128.6783\nEpoch 91/100\n - 0s - loss: 40.6222 - val_loss: 125.5047\nEpoch 92/100\n - 0s - loss: 39.7883 - val_loss: 123.6042\nEpoch 93/100\n - 0s - loss: 39.4795 - val_loss: 124.7612\nEpoch 94/100\n - 0s - loss: 38.4226 - val_loss: 121.0939\nEpoch 95/100\n - 0s - loss: 38.2621 - val_loss: 134.8941\nEpoch 96/100\n - 0s - loss: 37.5848 - val_loss: 123.9265\nEpoch 97/100\n - 0s - loss: 37.1717 - val_loss: 126.6890\nEpoch 98/100\n - 0s - loss: 37.0820 - val_loss: 126.0662\nEpoch 99/100\n - 0s - loss: 36.4961 - val_loss: 125.4326\nEpoch 100/100\n - 0s - loss: 35.9622 - val_loss: 122.9800\n"
    },
    {
     "data": {
      "text/plain": "<keras.callbacks.callbacks.History at 0x14e8b065848>"
     },
     "execution_count": 26,
     "metadata": {},
     "output_type": "execute_result"
    }
   ],
   "source": [
    "model.fit(input_data_norm,output_data,validation_split=0.3,epochs=100,verbose=2)"
   ]
  }
 ]
}